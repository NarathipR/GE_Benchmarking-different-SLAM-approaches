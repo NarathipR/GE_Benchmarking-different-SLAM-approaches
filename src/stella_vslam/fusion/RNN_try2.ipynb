{
  "nbformat": 4,
  "nbformat_minor": 0,
  "metadata": {
    "colab": {
      "provenance": [],
      "authorship_tag": "ABX9TyP+D739ar3Fwd4iiSQuDSja",
      "include_colab_link": true
    },
    "kernelspec": {
      "name": "python3",
      "display_name": "Python 3"
    },
    "language_info": {
      "name": "python"
    }
  },
  "cells": [
    {
      "cell_type": "markdown",
      "metadata": {
        "id": "view-in-github",
        "colab_type": "text"
      },
      "source": [
        "<a href=\"https://colab.research.google.com/github/sridhars03/stella_vslam_benchmark_fusion_/blob/main/src/stella_vslam/fusion/RNN_try2.ipynb\" target=\"_parent\"><img src=\"https://colab.research.google.com/assets/colab-badge.svg\" alt=\"Open In Colab\"/></a>"
      ]
    },
    {
      "cell_type": "code",
      "source": [
        "#To try:\n",
        "'''\n",
        "smaller LSTM layer\n",
        "different sequence lengths\n",
        "different dropout values\n",
        "include learning rate?\n",
        "'''"
      ],
      "metadata": {
        "id": "vY-Lzsk91pc6",
        "colab": {
          "base_uri": "https://localhost:8080/",
          "height": 35
        },
        "outputId": "8f732d2f-2dd1-4362-b779-e7ef30b6ae65"
      },
      "execution_count": null,
      "outputs": [
        {
          "output_type": "execute_result",
          "data": {
            "text/plain": [
              "'\\nsmaller LSTM layer\\ndifferent sequence lengths\\ndifferent dropout values\\ninclude learning rate?\\n'"
            ],
            "application/vnd.google.colaboratory.intrinsic+json": {
              "type": "string"
            }
          },
          "metadata": {},
          "execution_count": 1
        }
      ]
    },
    {
      "cell_type": "code",
      "execution_count": null,
      "metadata": {
        "id": "OQntvonaijlL",
        "colab": {
          "base_uri": "https://localhost:8080/"
        },
        "outputId": "502690cf-3348-42aa-8889-c5207b00dbad"
      },
      "outputs": [
        {
          "output_type": "stream",
          "name": "stdout",
          "text": [
            "Drive already mounted at /content/drive; to attempt to forcibly remount, call drive.mount(\"/content/drive\", force_remount=True).\n"
          ]
        }
      ],
      "source": [
        "#IMPORTS\n",
        "import numpy as np\n",
        "import tensorflow as tf\n",
        "from tensorflow import keras\n",
        "from keras.models import Sequential\n",
        "from keras.layers import Dense, LSTM, Dropout\n",
        "from keras.callbacks import EarlyStopping\n",
        "from keras.metrics import MeanSquaredError\n",
        "from sklearn.model_selection import train_test_split\n",
        "from google.colab import drive\n",
        "import pandas as pd\n",
        "drive.mount('/content/drive')"
      ]
    },
    {
      "cell_type": "code",
      "source": [
        "#################\n",
        "#GT\n",
        "\n",
        "#make a case to ignore first row if there is string\n",
        "def read_ground_truth(file_path):\n",
        "    data = np.loadtxt(file_path)\n",
        "    data = data[:,1:]\n",
        "    return data\n",
        "\n",
        "ground_truth = read_ground_truth('/content/drive/MyDrive/GEData/data.tum')\n",
        "print(ground_truth[:2])"
      ],
      "metadata": {
        "id": "fLVgDKQkiowk",
        "colab": {
          "base_uri": "https://localhost:8080/"
        },
        "outputId": "8e200c7a-e56d-4b82-f507-b41399ae1528"
      },
      "execution_count": null,
      "outputs": [
        {
          "output_type": "stream",
          "name": "stdout",
          "text": [
            "[[ 0.878612  2.14247   0.947262 -0.828459 -0.058956 -0.553641  0.060514]\n",
            " [ 0.878658  2.142398  0.947252 -0.828433 -0.059051 -0.553664  0.060571]]\n"
          ]
        }
      ]
    },
    {
      "cell_type": "code",
      "source": [
        "#################\n",
        "#SLAM trajectory outputs\n",
        "#************Synchronized trajs*********\n",
        "\n",
        "def read_traj_outputs(file_path):\n",
        "    data = np.loadtxt(file_path)\n",
        "    data = data[:,1:]\n",
        "    return data"
      ],
      "metadata": {
        "id": "K39HtY2XirVV"
      },
      "execution_count": null,
      "outputs": []
    },
    {
      "cell_type": "code",
      "source": [
        "#TRAINING INPUT DATA\n",
        "#without the timestamps\n",
        "# Replace with the paths to your trajectory output files in Google Drive\n",
        "poses_orb = read_traj_outputs('/content/drive/MyDrive/GEData/synchronized_trajectory_orb.txt')  #orb\n",
        "poses_openvslam = read_traj_outputs('/content/drive/MyDrive/GEData/synchronized_trajectory_openvslam.txt')  #openvslam\n",
        "print(poses_orb[:2],poses_openvslam[:2])\n",
        "\n",
        "#GT ll have different size. how to sync GT with these 2??\n",
        "#actual method: before doing synchronizing, check which has smaller size-then sync with that traj.txt\n",
        "#confusion with usual CNN - train bunch of imgs (input)-target-label.\n",
        "#here - train one big traj file - target-also traj file, when I train with another set of traj vs GT, will it undo the prev training?"
      ],
      "metadata": {
        "id": "Mh4jihctitL9",
        "colab": {
          "base_uri": "https://localhost:8080/"
        },
        "outputId": "8060123e-7164-4c95-bad9-db142bcdddd3"
      },
      "execution_count": null,
      "outputs": [
        {
          "output_type": "stream",
          "name": "stdout",
          "text": [
            "[[ 1.40371528e+09 -4.85362000e-03 -3.72603910e-02  1.00638820e-02\n",
            "   2.78241130e-02  3.44173100e-03  1.04273810e-02  9.99552548e-01]\n",
            " [ 1.40371528e+09 -5.35651800e-03 -4.48795820e-02  1.04846140e-02\n",
            "   3.25517950e-02  2.42477800e-03  1.15553960e-02  9.99400377e-01]] [[ 1.40371528e+09 -5.84083149e-03 -4.12494407e-02  1.09020021e-02\n",
            "   2.73515627e-02  3.30149928e-03  9.67261489e-03  9.99573625e-01]\n",
            " [ 1.40371528e+09 -6.47993811e-03 -5.11560346e-02  1.19780713e-02\n",
            "   3.12120984e-02  2.52622235e-03  1.11102391e-02  9.99447840e-01]]\n"
          ]
        }
      ]
    },
    {
      "cell_type": "code",
      "source": [
        "#*******************SYNC GT WITH Traj.txt\n",
        "\n",
        "def read_trajectory(file_path):\n",
        "    data = pd.read_csv(file_path, delim_whitespace=True, header=None, dtype={0: float})\n",
        "    data.columns = ['timestamp', 'tx', 'ty', 'tz', 'qx', 'qy', 'qz', 'qw']\n",
        "    return data\n",
        "\n",
        "def find_nearest_unique_timestamps(reference_timestamps, target_timestamps):\n",
        "    # Initialize an array to store the indices of the nearest unique timestamps\n",
        "    nearest_indices = []\n",
        "    used_indices = set()\n",
        "\n",
        "    for ref_time in reference_timestamps:\n",
        "        # Calculate the absolute differences between the reference timestamp and all target timestamps\n",
        "        differences = np.abs(target_timestamps - ref_time)\n",
        "\n",
        "        # Mask out the already used indices by setting their differences to a large number\n",
        "        differences[list(used_indices)] = np.inf\n",
        "\n",
        "        # Find the index of the minimum difference\n",
        "        nearest_index = np.argmin(differences)\n",
        "        nearest_indices.append(nearest_index)\n",
        "\n",
        "        # Mark this index as used\n",
        "        used_indices.add(nearest_index)\n",
        "\n",
        "    return nearest_indices\n",
        "\n",
        "# Replace 'synchronized_trajectory_orb.txt' and 'synchronized_trajectory_openvslam.txt' with your actual file paths\n",
        "trajectory_openvslam = read_trajectory('/content/drive/MyDrive/GEData/synchronized_trajectory_openvslam.txt')\n",
        "trajectory_gt = read_trajectory('/content/drive/MyDrive/GEData/data.tum')\n",
        "\n",
        "# Extract timestamps\n",
        "timestamps_gt = trajectory_gt['timestamp'].values\n",
        "timestamps_openvslam = trajectory_openvslam['timestamp'].values\n",
        "\n",
        "# Find nearest timestamps in OpenVSLAM for ORB-SLAM3 timestamps\n",
        "nearest_indices = find_nearest_unique_timestamps(timestamps_openvslam,timestamps_gt)\n",
        "\n",
        "synchronized_gt = trajectory_gt.iloc[nearest_indices].reset_index(drop=True)\n",
        "# Save it\n",
        "synchronized_gt.to_csv('/content/drive/MyDrive/GEData/synchronized_gt.txt', sep=' ',header=False,index=False)\n",
        "print(\"**************\")\n",
        "\n",
        "#assert method to check for size matching btwn trajs and GT\n",
        "assert synchronized_gt.shape[0] == poses_orb.shape[0] == poses_openvslam.shape[0], \"Mismatch in number of samples\"\n",
        "\n",
        "synchronized_gt_numpy = synchronized_gt.to_numpy()    #changning pandas DF to numpy"
      ],
      "metadata": {
        "colab": {
          "base_uri": "https://localhost:8080/"
        },
        "id": "Xa10OEVyjiGg",
        "outputId": "aba166a8-0781-4648-bb8a-53362914b70c"
      },
      "execution_count": null,
      "outputs": [
        {
          "output_type": "stream",
          "name": "stdout",
          "text": [
            "**************\n"
          ]
        }
      ]
    },
    {
      "cell_type": "code",
      "source": [
        "train_input_traj = np.concatenate((poses_orb, poses_openvslam), axis=1) #without timestamps\n",
        "target_input_traj = synchronized_gt_numpy[:,1:]  #without timestamps\n",
        "print(target_input_traj.shape, train_input_traj.shape)\n",
        "\n",
        "# SEQUENCE FOR LSTM\n",
        "sequence_length = 5\n",
        "num_sequences = train_input_traj.shape[0] - sequence_length\n",
        "X = np.array([train_input_traj[i:i+sequence_length] for i in range(num_sequences)])\n",
        "y = np.array([target_input_traj[i+sequence_length] for i in range(num_sequences)])\n",
        "print(X.shape,y.shape)"
      ],
      "metadata": {
        "colab": {
          "base_uri": "https://localhost:8080/"
        },
        "id": "52fli8diivid",
        "outputId": "90e32532-d5cf-4e2d-906f-4d0aad87542c"
      },
      "execution_count": null,
      "outputs": [
        {
          "output_type": "stream",
          "name": "stdout",
          "text": [
            "(2801, 7) (2801, 16)\n",
            "(2796, 5, 16) (2796, 7)\n"
          ]
        }
      ]
    },
    {
      "cell_type": "code",
      "source": [
        "# DEFINE MODEL + TRAIN\n",
        "X_train, X_val, y_train, y_val = X[:int(0.9*num_sequences)], X[int(0.9*num_sequences):], y[:int(0.9*num_sequences)], y[int(0.9*num_sequences):]\n",
        "print(X_train.shape,X_val.shape,y_train.shape,y_val.shape)\n",
        "model = Sequential([LSTM(128, return_sequences=False, input_shape=(sequence_length, 7*2)),\n",
        "                    Dropout(0.2),\n",
        "                    Dense(7,activation='relu')])\n",
        "\n",
        "model.compile(optimizer='adam', loss='mse')     #give accuracy/metrics here\n",
        "\n",
        "#***************ADD early stopping, dropout, try different activation--\n",
        "# early_stopping = EarlyStopping(min_delta=0.008, monitor='val_loss', patience=10 ,restore_best_weights=True)\n",
        "\n",
        "model.summary()\n",
        "history = model.fit(X_train, y_train, epochs=50, batch_size=32, validation_data=(X_val, y_val),verbose=1)"
      ],
      "metadata": {
        "colab": {
          "base_uri": "https://localhost:8080/",
          "height": 786
        },
        "id": "T8K-PgTlh2hH",
        "outputId": "e5da2ed7-39b7-4ec1-d489-ef97f823524f"
      },
      "execution_count": null,
      "outputs": [
        {
          "output_type": "stream",
          "name": "stdout",
          "text": [
            "(2516, 5, 16) (280, 5, 16) (2516, 7) (280, 7)\n"
          ]
        },
        {
          "output_type": "stream",
          "name": "stderr",
          "text": [
            "/usr/local/lib/python3.10/dist-packages/keras/src/layers/rnn/rnn.py:204: UserWarning: Do not pass an `input_shape`/`input_dim` argument to a layer. When using Sequential models, prefer using an `Input(shape)` object as the first layer in the model instead.\n",
            "  super().__init__(**kwargs)\n"
          ]
        },
        {
          "output_type": "display_data",
          "data": {
            "text/plain": [
              "\u001b[1mModel: \"sequential_10\"\u001b[0m\n"
            ],
            "text/html": [
              "<pre style=\"white-space:pre;overflow-x:auto;line-height:normal;font-family:Menlo,'DejaVu Sans Mono',consolas,'Courier New',monospace\"><span style=\"font-weight: bold\">Model: \"sequential_10\"</span>\n",
              "</pre>\n"
            ]
          },
          "metadata": {}
        },
        {
          "output_type": "display_data",
          "data": {
            "text/plain": [
              "┏━━━━━━━━━━━━━━━━━━━━━━━━━━━━━━━━━━━━━━┳━━━━━━━━━━━━━━━━━━━━━━━━━━━━━┳━━━━━━━━━━━━━━━━━┓\n",
              "┃\u001b[1m \u001b[0m\u001b[1mLayer (type)                        \u001b[0m\u001b[1m \u001b[0m┃\u001b[1m \u001b[0m\u001b[1mOutput Shape               \u001b[0m\u001b[1m \u001b[0m┃\u001b[1m \u001b[0m\u001b[1m        Param #\u001b[0m\u001b[1m \u001b[0m┃\n",
              "┡━━━━━━━━━━━━━━━━━━━━━━━━━━━━━━━━━━━━━━╇━━━━━━━━━━━━━━━━━━━━━━━━━━━━━╇━━━━━━━━━━━━━━━━━┩\n",
              "│ lstm_10 (\u001b[38;5;33mLSTM\u001b[0m)                       │ (\u001b[38;5;45mNone\u001b[0m, \u001b[38;5;34m128\u001b[0m)                 │          \u001b[38;5;34m73,216\u001b[0m │\n",
              "├──────────────────────────────────────┼─────────────────────────────┼─────────────────┤\n",
              "│ dropout_9 (\u001b[38;5;33mDropout\u001b[0m)                  │ (\u001b[38;5;45mNone\u001b[0m, \u001b[38;5;34m128\u001b[0m)                 │               \u001b[38;5;34m0\u001b[0m │\n",
              "├──────────────────────────────────────┼─────────────────────────────┼─────────────────┤\n",
              "│ dense_10 (\u001b[38;5;33mDense\u001b[0m)                     │ (\u001b[38;5;45mNone\u001b[0m, \u001b[38;5;34m7\u001b[0m)                   │             \u001b[38;5;34m903\u001b[0m │\n",
              "└──────────────────────────────────────┴─────────────────────────────┴─────────────────┘\n"
            ],
            "text/html": [
              "<pre style=\"white-space:pre;overflow-x:auto;line-height:normal;font-family:Menlo,'DejaVu Sans Mono',consolas,'Courier New',monospace\">┏━━━━━━━━━━━━━━━━━━━━━━━━━━━━━━━━━━━━━━┳━━━━━━━━━━━━━━━━━━━━━━━━━━━━━┳━━━━━━━━━━━━━━━━━┓\n",
              "┃<span style=\"font-weight: bold\"> Layer (type)                         </span>┃<span style=\"font-weight: bold\"> Output Shape                </span>┃<span style=\"font-weight: bold\">         Param # </span>┃\n",
              "┡━━━━━━━━━━━━━━━━━━━━━━━━━━━━━━━━━━━━━━╇━━━━━━━━━━━━━━━━━━━━━━━━━━━━━╇━━━━━━━━━━━━━━━━━┩\n",
              "│ lstm_10 (<span style=\"color: #0087ff; text-decoration-color: #0087ff\">LSTM</span>)                       │ (<span style=\"color: #00d7ff; text-decoration-color: #00d7ff\">None</span>, <span style=\"color: #00af00; text-decoration-color: #00af00\">128</span>)                 │          <span style=\"color: #00af00; text-decoration-color: #00af00\">73,216</span> │\n",
              "├──────────────────────────────────────┼─────────────────────────────┼─────────────────┤\n",
              "│ dropout_9 (<span style=\"color: #0087ff; text-decoration-color: #0087ff\">Dropout</span>)                  │ (<span style=\"color: #00d7ff; text-decoration-color: #00d7ff\">None</span>, <span style=\"color: #00af00; text-decoration-color: #00af00\">128</span>)                 │               <span style=\"color: #00af00; text-decoration-color: #00af00\">0</span> │\n",
              "├──────────────────────────────────────┼─────────────────────────────┼─────────────────┤\n",
              "│ dense_10 (<span style=\"color: #0087ff; text-decoration-color: #0087ff\">Dense</span>)                     │ (<span style=\"color: #00d7ff; text-decoration-color: #00d7ff\">None</span>, <span style=\"color: #00af00; text-decoration-color: #00af00\">7</span>)                   │             <span style=\"color: #00af00; text-decoration-color: #00af00\">903</span> │\n",
              "└──────────────────────────────────────┴─────────────────────────────┴─────────────────┘\n",
              "</pre>\n"
            ]
          },
          "metadata": {}
        },
        {
          "output_type": "display_data",
          "data": {
            "text/plain": [
              "\u001b[1m Total params: \u001b[0m\u001b[38;5;34m74,119\u001b[0m (289.53 KB)\n"
            ],
            "text/html": [
              "<pre style=\"white-space:pre;overflow-x:auto;line-height:normal;font-family:Menlo,'DejaVu Sans Mono',consolas,'Courier New',monospace\"><span style=\"font-weight: bold\"> Total params: </span><span style=\"color: #00af00; text-decoration-color: #00af00\">74,119</span> (289.53 KB)\n",
              "</pre>\n"
            ]
          },
          "metadata": {}
        },
        {
          "output_type": "display_data",
          "data": {
            "text/plain": [
              "\u001b[1m Trainable params: \u001b[0m\u001b[38;5;34m74,119\u001b[0m (289.53 KB)\n"
            ],
            "text/html": [
              "<pre style=\"white-space:pre;overflow-x:auto;line-height:normal;font-family:Menlo,'DejaVu Sans Mono',consolas,'Courier New',monospace\"><span style=\"font-weight: bold\"> Trainable params: </span><span style=\"color: #00af00; text-decoration-color: #00af00\">74,119</span> (289.53 KB)\n",
              "</pre>\n"
            ]
          },
          "metadata": {}
        },
        {
          "output_type": "display_data",
          "data": {
            "text/plain": [
              "\u001b[1m Non-trainable params: \u001b[0m\u001b[38;5;34m0\u001b[0m (0.00 B)\n"
            ],
            "text/html": [
              "<pre style=\"white-space:pre;overflow-x:auto;line-height:normal;font-family:Menlo,'DejaVu Sans Mono',consolas,'Courier New',monospace\"><span style=\"font-weight: bold\"> Non-trainable params: </span><span style=\"color: #00af00; text-decoration-color: #00af00\">0</span> (0.00 B)\n",
              "</pre>\n"
            ]
          },
          "metadata": {}
        },
        {
          "output_type": "stream",
          "name": "stdout",
          "text": [
            "Epoch 1/50\n"
          ]
        },
        {
          "output_type": "error",
          "ename": "ValueError",
          "evalue": "Exception encountered when calling LSTMCell.call().\n\n\u001b[1mDimensions must be equal, but are 16 and 14 for '{{node sequential_10_1/lstm_10_1/lstm_cell_1/MatMul}} = MatMul[T=DT_FLOAT, grad_a=false, grad_b=false, transpose_a=false, transpose_b=false](sequential_10_1/lstm_10_1/strided_slice_2, sequential_10_1/lstm_10_1/lstm_cell_1/Cast/ReadVariableOp)' with input shapes: [?,16], [14,512].\u001b[0m\n\nArguments received by LSTMCell.call():\n  • inputs=tf.Tensor(shape=(None, 16), dtype=float32)\n  • states=('tf.Tensor(shape=(None, 128), dtype=float32)', 'tf.Tensor(shape=(None, 128), dtype=float32)')\n  • training=True",
          "traceback": [
            "\u001b[0;31m---------------------------------------------------------------------------\u001b[0m",
            "\u001b[0;31mValueError\u001b[0m                                Traceback (most recent call last)",
            "\u001b[0;32m<ipython-input-52-ec12564a2bf6>\u001b[0m in \u001b[0;36m<cell line: 14>\u001b[0;34m()\u001b[0m\n\u001b[1;32m     12\u001b[0m \u001b[0;34m\u001b[0m\u001b[0m\n\u001b[1;32m     13\u001b[0m \u001b[0mmodel\u001b[0m\u001b[0;34m.\u001b[0m\u001b[0msummary\u001b[0m\u001b[0;34m(\u001b[0m\u001b[0;34m)\u001b[0m\u001b[0;34m\u001b[0m\u001b[0;34m\u001b[0m\u001b[0m\n\u001b[0;32m---> 14\u001b[0;31m \u001b[0mhistory\u001b[0m \u001b[0;34m=\u001b[0m \u001b[0mmodel\u001b[0m\u001b[0;34m.\u001b[0m\u001b[0mfit\u001b[0m\u001b[0;34m(\u001b[0m\u001b[0mX_train\u001b[0m\u001b[0;34m,\u001b[0m \u001b[0my_train\u001b[0m\u001b[0;34m,\u001b[0m \u001b[0mepochs\u001b[0m\u001b[0;34m=\u001b[0m\u001b[0;36m50\u001b[0m\u001b[0;34m,\u001b[0m \u001b[0mbatch_size\u001b[0m\u001b[0;34m=\u001b[0m\u001b[0;36m32\u001b[0m\u001b[0;34m,\u001b[0m \u001b[0mvalidation_data\u001b[0m\u001b[0;34m=\u001b[0m\u001b[0;34m(\u001b[0m\u001b[0mX_val\u001b[0m\u001b[0;34m,\u001b[0m \u001b[0my_val\u001b[0m\u001b[0;34m)\u001b[0m\u001b[0;34m,\u001b[0m\u001b[0mverbose\u001b[0m\u001b[0;34m=\u001b[0m\u001b[0;36m1\u001b[0m\u001b[0;34m)\u001b[0m\u001b[0;34m\u001b[0m\u001b[0;34m\u001b[0m\u001b[0m\n\u001b[0m",
            "\u001b[0;32m/usr/local/lib/python3.10/dist-packages/keras/src/utils/traceback_utils.py\u001b[0m in \u001b[0;36merror_handler\u001b[0;34m(*args, **kwargs)\u001b[0m\n\u001b[1;32m    120\u001b[0m             \u001b[0;31m# To get the full stack trace, call:\u001b[0m\u001b[0;34m\u001b[0m\u001b[0;34m\u001b[0m\u001b[0m\n\u001b[1;32m    121\u001b[0m             \u001b[0;31m# `keras.config.disable_traceback_filtering()`\u001b[0m\u001b[0;34m\u001b[0m\u001b[0;34m\u001b[0m\u001b[0m\n\u001b[0;32m--> 122\u001b[0;31m             \u001b[0;32mraise\u001b[0m \u001b[0me\u001b[0m\u001b[0;34m.\u001b[0m\u001b[0mwith_traceback\u001b[0m\u001b[0;34m(\u001b[0m\u001b[0mfiltered_tb\u001b[0m\u001b[0;34m)\u001b[0m \u001b[0;32mfrom\u001b[0m \u001b[0;32mNone\u001b[0m\u001b[0;34m\u001b[0m\u001b[0;34m\u001b[0m\u001b[0m\n\u001b[0m\u001b[1;32m    123\u001b[0m         \u001b[0;32mfinally\u001b[0m\u001b[0;34m:\u001b[0m\u001b[0;34m\u001b[0m\u001b[0;34m\u001b[0m\u001b[0m\n\u001b[1;32m    124\u001b[0m             \u001b[0;32mdel\u001b[0m \u001b[0mfiltered_tb\u001b[0m\u001b[0;34m\u001b[0m\u001b[0;34m\u001b[0m\u001b[0m\n",
            "\u001b[0;32m/usr/local/lib/python3.10/dist-packages/keras/src/utils/traceback_utils.py\u001b[0m in \u001b[0;36merror_handler\u001b[0;34m(*args, **kwargs)\u001b[0m\n\u001b[1;32m    120\u001b[0m             \u001b[0;31m# To get the full stack trace, call:\u001b[0m\u001b[0;34m\u001b[0m\u001b[0;34m\u001b[0m\u001b[0m\n\u001b[1;32m    121\u001b[0m             \u001b[0;31m# `keras.config.disable_traceback_filtering()`\u001b[0m\u001b[0;34m\u001b[0m\u001b[0;34m\u001b[0m\u001b[0m\n\u001b[0;32m--> 122\u001b[0;31m             \u001b[0;32mraise\u001b[0m \u001b[0me\u001b[0m\u001b[0;34m.\u001b[0m\u001b[0mwith_traceback\u001b[0m\u001b[0;34m(\u001b[0m\u001b[0mfiltered_tb\u001b[0m\u001b[0;34m)\u001b[0m \u001b[0;32mfrom\u001b[0m \u001b[0;32mNone\u001b[0m\u001b[0;34m\u001b[0m\u001b[0;34m\u001b[0m\u001b[0m\n\u001b[0m\u001b[1;32m    123\u001b[0m         \u001b[0;32mfinally\u001b[0m\u001b[0;34m:\u001b[0m\u001b[0;34m\u001b[0m\u001b[0;34m\u001b[0m\u001b[0m\n\u001b[1;32m    124\u001b[0m             \u001b[0;32mdel\u001b[0m \u001b[0mfiltered_tb\u001b[0m\u001b[0;34m\u001b[0m\u001b[0;34m\u001b[0m\u001b[0m\n",
            "\u001b[0;31mValueError\u001b[0m: Exception encountered when calling LSTMCell.call().\n\n\u001b[1mDimensions must be equal, but are 16 and 14 for '{{node sequential_10_1/lstm_10_1/lstm_cell_1/MatMul}} = MatMul[T=DT_FLOAT, grad_a=false, grad_b=false, transpose_a=false, transpose_b=false](sequential_10_1/lstm_10_1/strided_slice_2, sequential_10_1/lstm_10_1/lstm_cell_1/Cast/ReadVariableOp)' with input shapes: [?,16], [14,512].\u001b[0m\n\nArguments received by LSTMCell.call():\n  • inputs=tf.Tensor(shape=(None, 16), dtype=float32)\n  • states=('tf.Tensor(shape=(None, 128), dtype=float32)', 'tf.Tensor(shape=(None, 128), dtype=float32)')\n  • training=True"
          ]
        }
      ]
    },
    {
      "cell_type": "code",
      "source": [
        "#VIZ - loss, accuracy plots\n",
        "history_df = pd.DataFrame(history.history)\n",
        "history_df.loc[:, ['loss', 'val_loss']].plot()\n",
        "print(history_df.columns)\n",
        "print(\"Loss=\",history_df['loss'].mean(), \"     Val Loss=\",history_df['val_loss'].mean())\n",
        "# history_df.loc[5:, ['binary_accuracy', 'val_binary_accuracy']].plot()\n",
        "# print((\"Best Validation Loss: {:0.4f}\" + \"\\nBest Validation Accuracy: {:0.4f}\").format(history_df['val_loss'].min(),history_df['val_binary_accuracy'].max()))"
      ],
      "metadata": {
        "colab": {
          "base_uri": "https://localhost:8080/",
          "height": 465
        },
        "id": "ejdcsIUagrc8",
        "outputId": "d1e0d4ed-4a6a-4e0a-b469-7bfa6ae3c916"
      },
      "execution_count": null,
      "outputs": [
        {
          "output_type": "stream",
          "name": "stdout",
          "text": [
            "Index(['loss', 'val_loss'], dtype='object')\n",
            "Loss= 0.2682581901550293      Val Loss= 0.07837518647313119\n"
          ]
        },
        {
          "output_type": "display_data",
          "data": {
            "text/plain": [
              "<Figure size 640x480 with 1 Axes>"
            ],
            "image/png": "[encoded data removed]"
          },
          "metadata": {}
        }
      ]
    },
    {
      "cell_type": "code",
      "source": [
        "#GETTING TEST DATA\n",
        "#************Synchronized trajs*********\n",
        "\n",
        "#Trying to get a better traj output from this RNN model\n",
        "#testing with v102 trajectory now\n",
        "test_traj_orb = read_traj_outputs('/content/drive/MyDrive/GEData/synchronized_trajectory_orb_mh01test.txt')\n",
        "test_traj_openvslam = read_traj_outputs('/content/drive/MyDrive/GEData/synchronized_trajectory_openvslam_mh01test.txt')\n",
        "print(test_traj_orb.shape)\n",
        "#*****Think about the (sequence length,7) shape in GPT\n",
        "\n",
        "# Prepare sequences for testing\n",
        "test_sequences = []\n",
        "for i in range(len(test_traj_orb) - sequence_length + 1):\n",
        "    orb_seq = test_traj_orb[i:i+sequence_length]\n",
        "    openvslam_seq = test_traj_openvslam[i:i+sequence_length]\n",
        "    combined_seq = np.concatenate((orb_seq, openvslam_seq), axis=1)\n",
        "    test_sequences.append(combined_seq)\n",
        "\n",
        "test_sequences = np.array(test_sequences)\n",
        "print(test_sequences.shape)  #(num_test_sequences,sequence_length,14)"
      ],
      "metadata": {
        "id": "uw2FeRYTi097",
        "colab": {
          "base_uri": "https://localhost:8080/"
        },
        "outputId": "7cda4c50-cbd8-4859-8e46-e9e0694687ff"
      },
      "execution_count": null,
      "outputs": [
        {
          "output_type": "stream",
          "name": "stdout",
          "text": [
            "(3038, 7)\n",
            "(3034, 5, 14)\n"
          ]
        }
      ]
    },
    {
      "cell_type": "code",
      "source": [
        "# PREDICTION OF TRAJECTORY\n",
        "predicted_traj = model.predict(test_sequences)\n",
        "print(predicted_traj.shape)   # (num of samples - seq length + 1, 7)\n",
        "print(predicted_traj[0])"
      ],
      "metadata": {
        "id": "N_ByUxcR0-S6",
        "colab": {
          "base_uri": "https://localhost:8080/"
        },
        "outputId": "7ca29fa4-4a7a-4ebf-8794-5f973aac3eb3"
      },
      "execution_count": null,
      "outputs": [
        {
          "output_type": "stream",
          "name": "stdout",
          "text": [
            "\u001b[1m95/95\u001b[0m \u001b[32m━━━━━━━━━━━━━━━━━━━━\u001b[0m\u001b[37m\u001b[0m \u001b[1m1s\u001b[0m 8ms/step\n",
            "(3034, 7)\n",
            "[0.74801946 1.9828956  0.7667477  0.         0.         0.\n",
            " 0.07406384]\n"
          ]
        }
      ]
    },
    {
      "cell_type": "code",
      "source": [
        "#*********mimic timestamps n add to result traj\n",
        "#for now - i ll use timestamp of openvslam..\n",
        "\n",
        "def read_traj_outputs(file_path):\n",
        "    data = np.loadtxt(file_path)\n",
        "    return data\n",
        "\n",
        "\n",
        "test_openvslam_with_timestamps = read_traj_outputs('/content/drive/MyDrive/GEData/synchronized_trajectory_openvslam_mh01test.txt')\n",
        "avg_timegap=(test_openvslam_with_timestamps[-1][0] - test_openvslam_with_timestamps[0][0])/(test_openvslam_with_timestamps.shape[0]-1)\n",
        "fake_timestamp = np.arange(test_openvslam_with_timestamps[0][0],test_openvslam_with_timestamps[0][0]+predicted_traj.shape[0]*avg_timegap,avg_timegap).reshape(-1,1)\n",
        "result_with_timestamps = np.hstack((fake_timestamp,predicted_traj))\n",
        "\n",
        "#save the result traj\n",
        "np.savetxt('/content/drive/MyDrive/GEData/Resultmh01.txt', result_with_timestamps,delimiter=' ', fmt='%f')"
      ],
      "metadata": {
        "id": "d7HLkFXbVxvF"
      },
      "execution_count": null,
      "outputs": []
    }
  ]
}